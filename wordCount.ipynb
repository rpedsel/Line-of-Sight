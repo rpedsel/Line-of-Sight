{
 "cells": [
  {
   "cell_type": "code",
   "execution_count": 1,
   "metadata": {},
   "outputs": [],
   "source": [
    "import pyspark\n",
    "import xml.etree.cElementTree as ET\n",
    "from os import listdir\n",
    "from os.path import isfile, join"
   ]
  },
  {
   "cell_type": "code",
   "execution_count": 2,
   "metadata": {},
   "outputs": [],
   "source": [
    "mypath = './states'\n",
    "osmfiles = [join(mypath, f) for f in listdir(mypath) if isfile(join(mypath, f))]"
   ]
  },
  {
   "cell_type": "code",
   "execution_count": 3,
   "metadata": {
    "scrolled": true
   },
   "outputs": [
    {
     "data": {
      "text/plain": [
       "['./states/missouri-latest.osm',\n",
       " './states/louisiana-latest.osm',\n",
       " './states/new-york-latest.osm',\n",
       " './states/new-hampshire-latest.osm',\n",
       " './states/west-virginia-latest.osm',\n",
       " './states/delaware-latest.osm',\n",
       " './states/new-jersey-latest.osm',\n",
       " './states/wyoming-latest.osm',\n",
       " './states/wisconsin-latest.osm',\n",
       " './states/washington-latest.osm',\n",
       " './states/north-carolina-latest.osm',\n",
       " './states/arizona-latest.osm',\n",
       " './states/nevada-latest.osm',\n",
       " './states/virginia-latest.osm',\n",
       " './states/oregon-latest.osm',\n",
       " './states/kentucky-latest.osm',\n",
       " './states/connecticut-latest.osm',\n",
       " './states/utah-latest.osm',\n",
       " './states/hawaii-latest.osm',\n",
       " './states/maryland-latest.osm',\n",
       " './states/ohio-latest.osm',\n",
       " './states/rhode-island-latest.osm',\n",
       " './states/iowa-latest.osm',\n",
       " './states/south-dakota-latest.osm',\n",
       " './states/maine-latest.osm',\n",
       " './states/nebraska-latest.osm',\n",
       " './states/illinois-latest.osm',\n",
       " './states/kansas-latest.osm',\n",
       " './states/mississippi-latest.osm',\n",
       " './states/north-dakota-latest.osm',\n",
       " './states/california-latest.osm',\n",
       " './states/alaska-latest.osm',\n",
       " './states/new-mexico-latest.osm',\n",
       " './states/puerto-rico-latest.osm',\n",
       " './states/florida-latest.osm',\n",
       " './states/alabama-latest.osm',\n",
       " './states/minnesota-latest.osm',\n",
       " './states/oklahoma-latest.osm',\n",
       " './states/tennessee-latest.osm',\n",
       " './states/texas-latest.osm',\n",
       " './states/district-of-columbia-latest.osm',\n",
       " './states/colorado-latest.osm',\n",
       " './states/pennsylvania-latest.osm',\n",
       " './states/indiana-latest.osm',\n",
       " './states/massachusetts-latest.osm',\n",
       " './states/idaho-latest.osm',\n",
       " './states/michigan-latest.osm',\n",
       " './states/arkansas-latest.osm',\n",
       " './states/georgia-latest.osm',\n",
       " './states/vermont-latest.osm',\n",
       " './states/montana-latest.osm',\n",
       " './states/south-carolina-latest.osm']"
      ]
     },
     "execution_count": 3,
     "metadata": {},
     "output_type": "execute_result"
    }
   ],
   "source": [
    "osmfiles"
   ]
  },
  {
   "cell_type": "code",
   "execution_count": 21,
   "metadata": {},
   "outputs": [],
   "source": [
    "def process_buffer(buf):\n",
    "    tnode = ET.fromstring(buf)\n",
    "    return tnode.attrib['k']+', '+tnode.attrib['v']+'\\n'"
   ]
  },
  {
   "cell_type": "code",
   "execution_count": 25,
   "metadata": {
    "scrolled": true
   },
   "outputs": [
    {
     "name": "stdout",
     "output_type": "stream",
     "text": [
      "parsing ./states/missouri-latest.osm\n",
      "parsing ./states/louisiana-latest.osm\n",
      "parsing ./states/new-york-latest.osm\n",
      "parsing ./states/new-hampshire-latest.osm\n",
      "parsing ./states/west-virginia-latest.osm\n",
      "parsing ./states/delaware-latest.osm\n",
      "parsing ./states/new-jersey-latest.osm\n",
      "parsing ./states/wyoming-latest.osm\n",
      "parsing ./states/wisconsin-latest.osm\n",
      "parsing ./states/washington-latest.osm\n",
      "parsing ./states/north-carolina-latest.osm\n",
      "parsing ./states/arizona-latest.osm\n",
      "parsing ./states/nevada-latest.osm\n",
      "parsing ./states/virginia-latest.osm\n",
      "parsing ./states/oregon-latest.osm\n",
      "parsing ./states/kentucky-latest.osm\n",
      "parsing ./states/connecticut-latest.osm\n",
      "parsing ./states/utah-latest.osm\n",
      "parsing ./states/hawaii-latest.osm\n",
      "parsing ./states/maryland-latest.osm\n",
      "parsing ./states/ohio-latest.osm\n",
      "parsing ./states/rhode-island-latest.osm\n",
      "parsing ./states/iowa-latest.osm\n",
      "parsing ./states/south-dakota-latest.osm\n",
      "parsing ./states/maine-latest.osm\n",
      "parsing ./states/nebraska-latest.osm\n",
      "parsing ./states/illinois-latest.osm\n",
      "parsing ./states/kansas-latest.osm\n",
      "parsing ./states/mississippi-latest.osm\n",
      "parsing ./states/north-dakota-latest.osm\n",
      "parsing ./states/california-latest.osm\n",
      "parsing ./states/alaska-latest.osm\n",
      "parsing ./states/new-mexico-latest.osm\n",
      "parsing ./states/puerto-rico-latest.osm\n",
      "parsing ./states/florida-latest.osm\n",
      "parsing ./states/alabama-latest.osm\n",
      "parsing ./states/minnesota-latest.osm\n",
      "parsing ./states/oklahoma-latest.osm\n",
      "parsing ./states/tennessee-latest.osm\n",
      "parsing ./states/texas-latest.osm\n",
      "parsing ./states/district-of-columbia-latest.osm\n",
      "parsing ./states/colorado-latest.osm\n",
      "parsing ./states/pennsylvania-latest.osm\n",
      "parsing ./states/indiana-latest.osm\n",
      "parsing ./states/massachusetts-latest.osm\n",
      "parsing ./states/idaho-latest.osm\n",
      "parsing ./states/michigan-latest.osm\n",
      "parsing ./states/arkansas-latest.osm\n",
      "parsing ./states/georgia-latest.osm\n",
      "parsing ./states/vermont-latest.osm\n",
      "parsing ./states/montana-latest.osm\n",
      "parsing ./states/south-carolina-latest.osm\n"
     ]
    }
   ],
   "source": [
    "with open('pairs.txt', 'a') as the_file:\n",
    "    for osm in osmfiles:\n",
    "        inputbuffer = ''\n",
    "        with open(osm,'r') as inputfile:\n",
    "            print('parsing {}'.format(osm))\n",
    "            for line in inputfile:\n",
    "                if '<tag' in line:\n",
    "                    inputbuffer = line\n",
    "                    pair = process_buffer(inputbuffer)\n",
    "                    del inputbuffer #probably redundant...\n",
    "                    the_file.write(pair)"
   ]
  },
  {
   "cell_type": "code",
   "execution_count": 2,
   "metadata": {},
   "outputs": [],
   "source": [
    "sc = pyspark.SparkContext(appName=\"osm_tags_count_US\")"
   ]
  },
  {
   "cell_type": "code",
   "execution_count": 3,
   "metadata": {},
   "outputs": [],
   "source": [
    "pairs = sc.textFile('pairs.txt')\n",
    "counts = pairs.flatMap(lambda whole: whole.split(\"\\n\")) \\\n",
    "             .map(lambda word: (word, 1)) \\\n",
    "             .reduceByKey(lambda a, b: a + b) \\\n",
    "             .filter(lambda x: x[1] > 10000) \\\n",
    "             .sortBy(lambda x: x[1], ascending=False)\n",
    "counts.repartition(1).saveAsTextFile('kv_count')"
   ]
  },
  {
   "cell_type": "code",
   "execution_count": 9,
   "metadata": {},
   "outputs": [],
   "source": [
    "pairs = sc.textFile('pairs.txt')\n",
    "counts = pairs.flatMap(lambda whole: whole.split(\"\\n\")) \\\n",
    "             .map(lambda word: (word.split(',')[0], 1)) \\\n",
    "             .reduceByKey(lambda a, b: a + b) \\\n",
    "             .sortBy(lambda x: x[1], ascending=False)\n",
    "counts.repartition(1).saveAsTextFile('key_count')"
   ]
  }
 ],
 "metadata": {
  "kernelspec": {
   "display_name": "Python 3",
   "language": "python",
   "name": "python3"
  },
  "language_info": {
   "codemirror_mode": {
    "name": "ipython",
    "version": 3
   },
   "file_extension": ".py",
   "mimetype": "text/x-python",
   "name": "python",
   "nbconvert_exporter": "python",
   "pygments_lexer": "ipython3",
   "version": "3.5.2"
  }
 },
 "nbformat": 4,
 "nbformat_minor": 2
}
