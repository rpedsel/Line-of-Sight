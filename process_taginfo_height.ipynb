{
 "cells": [
  {
   "cell_type": "code",
   "execution_count": 14,
   "metadata": {},
   "outputs": [],
   "source": [
    "import urllib.request, json"
   ]
  },
  {
   "cell_type": "code",
   "execution_count": 24,
   "metadata": {},
   "outputs": [],
   "source": [
    "jsonurl = 'https://taginfo.openstreetmap.org/api/4/keys/all?include=prevalent_values&sortname=count_all&sortorder=desc&page=1&rp=400&query=%3Aheight&qtype=&format=json_pretty'\n",
    " \n",
    "with urllib.request.urlopen(jsonurl) as url:\n",
    "    data = json.loads(url.read().decode())"
   ]
  },
  {
   "cell_type": "code",
   "execution_count": 29,
   "metadata": {
    "scrolled": true
   },
   "outputs": [],
   "source": [
    "cnt = 0\n",
    "keylist = []\n",
    "for record in data['data']:\n",
    "    if record['count_all']>100:\n",
    "        keylist.append(record['key'])\n",
    "        cnt += 1"
   ]
  },
  {
   "cell_type": "code",
   "execution_count": 38,
   "metadata": {},
   "outputs": [
    {
     "name": "stdout",
     "output_type": "stream",
     "text": [
      "node,way   roof:height                               text         linear\n",
      "node,way   source:height                             text         linear\n",
      "node,way   building:height                           text         linear\n",
      "node,way   railway:signal:main:height                text         linear\n",
      "node,way   seamark:light:height                      text         linear\n",
      "node,way   railway:signal:speed_limit:height         text         linear\n",
      "node,way   railway:signal:distant:height             text         linear\n",
      "node,way   railway:signal:minor:height               text         linear\n",
      "node,way   railway:signal:shunting:height            text         linear\n",
      "node,way   seamark:light:1:height                    text         linear\n",
      "node,way   railway:signal:speed_limit_distant:height text         linear\n",
      "node,way   railway:signal:combined:height            text         linear\n",
      "node,way   seamark:light:2:height                    text         linear\n",
      "node,way   seamark:light:3:height                    text         linear\n",
      "node,way   plinthlevel:height                        text         linear\n",
      "node,way   brt:height_class                          text         linear\n",
      "node,way   seamark:light:4:height                    text         linear\n",
      "node,way   kerb:height                               text         linear\n",
      "node,way   seamark:light:5:height                    text         linear\n",
      "node,way   railway:signal:stop:height                text         linear\n",
      "node,way   building:roof:height                      text         linear\n",
      "node,way   railway:signal:electricity:height         text         linear\n",
      "node,way   seamark:light:6:height                    text         linear\n",
      "node,way   nuclear_explosion:height_of_burst         text         linear\n",
      "node,way   seamark:light:7:height                    text         linear\n",
      "node,way   3dr:height1                               text         linear\n",
      "node,way   seamark:light:8:height                    text         linear\n",
      "node,way   building:cullis:height                    text         linear\n",
      "node,way   seamark:light:9:height                    text         linear\n",
      "node,way   railway:signal:crossing_info:height       text         linear\n",
      "node,way   lock:height                               text         linear\n",
      "node,way   step:height                               text         linear\n",
      "node,way   seamark:landmark:height                   text         linear\n",
      "node,way   seamark:light:10:height                   text         linear\n",
      "node,way   ground_floor:height                       text         linear\n",
      "node,way   seamark:light:11:height                   text         linear\n",
      "node,way   railway:signal:snowplow:height            text         linear\n",
      "node,way   railway:signal:crossing_hint:height       text         linear\n",
      "node,way   light:height                              text         linear\n",
      "node,way   roof:height:source                        text         linear\n",
      "node,way   window:height                             text         linear\n",
      "node,way   lamp:height                               text         linear\n",
      "node,way   3dr:height2                               text         linear\n",
      "node,way   door:height                               text         linear\n",
      "node,way   seamark:light:12:height                   text         linear\n",
      "node,way   railway:signal:height                     text         linear\n",
      "node,way   seamark:beacon_lateral:height             text         linear\n",
      "node,way   seamark:beacon_special_purpose:height     text         linear\n",
      "node,way   railway:signal:expected_position:height   text         linear\n",
      "node,way   note:height                               text         linear\n",
      "node,way   seamark:light:13:height                   text         linear\n",
      "node,way   roof:type:height                          text         linear\n",
      "node,way   seamark:beacon_cardinal:height            text         linear\n"
     ]
    }
   ],
   "source": [
    "for k in keylist:\n",
    "    print('node,way   {0:<42}text         linear'.format(k))\n",
    "# paste the output to openstreetmap-carto.style"
   ]
  }
 ],
 "metadata": {
  "kernelspec": {
   "display_name": "Python 3",
   "language": "python",
   "name": "python3"
  },
  "language_info": {
   "codemirror_mode": {
    "name": "ipython",
    "version": 3
   },
   "file_extension": ".py",
   "mimetype": "text/x-python",
   "name": "python",
   "nbconvert_exporter": "python",
   "pygments_lexer": "ipython3",
   "version": "3.5.2"
  }
 },
 "nbformat": 4,
 "nbformat_minor": 2
}
